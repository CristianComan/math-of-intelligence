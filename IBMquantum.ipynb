{
 "cells": [
  {
   "cell_type": "markdown",
   "metadata": {},
   "source": [
    "# IBM Quantum experience"
   ]
  },
  {
   "cell_type": "markdown",
   "metadata": {},
   "source": [
    "Simple notebook to experience with the IBM's quantum computing API in Python."
   ]
  },
  {
   "cell_type": "code",
   "execution_count": 32,
   "metadata": {
    "collapsed": false
   },
   "outputs": [
    {
     "name": "stdout",
     "output_type": "stream",
     "text": [
      "3.6.0 |Anaconda custom (64-bit)| (default, Dec 23 2016, 12:22:00) \n",
      "[GCC 4.4.7 20120313 (Red Hat 4.4.7-1)]\n"
     ]
    }
   ],
   "source": [
    "import sys\n",
    "print(sys.version)\n",
    "\n",
    "# Path to qiskit folder\n",
    "sys.path.append('/home/cristian/workarea-qibm/qiskit-sdk-py/')\n",
    "\n",
    "from qiskit import QuantumProgram\n",
    "import Qconfig"
   ]
  },
  {
   "cell_type": "markdown",
   "metadata": {
    "collapsed": true
   },
   "source": [
    "Create a QuantumProgram object, with quantum and classic registers to hold 3 bits"
   ]
  },
  {
   "cell_type": "code",
   "execution_count": 33,
   "metadata": {
    "collapsed": false
   },
   "outputs": [],
   "source": [
    "qProg = QuantumProgram()\n",
    "n = 3\n",
    "qReg = qProg.create_quantum_register(\"qReg\",n)\n",
    "cReg = qProg.create_classical_register(\"cReg\",n)\n",
    "qCirc = qProg.create_circuit(\"qCirc\",[qReg],[cReg])"
   ]
  },
  {
   "cell_type": "code",
   "execution_count": 34,
   "metadata": {
    "collapsed": false
   },
   "outputs": [
    {
     "name": "stdout",
     "output_type": "stream",
     "text": [
      "(<qiskit._quantumregister.QuantumRegister object at 0x7fcfa5d194e0>, 0)\n",
      "(<qiskit._quantumregister.QuantumRegister object at 0x7fcfa5d194e0>, 1)\n",
      "(<qiskit._quantumregister.QuantumRegister object at 0x7fcfa5d194e0>, 2)\n"
     ]
    }
   ],
   "source": [
    "for i in range(n):\n",
    "    qCirc.h(qReg[i])\n",
    "    #print(qReg[i])"
   ]
  },
  {
   "cell_type": "code",
   "execution_count": 35,
   "metadata": {
    "collapsed": false
   },
   "outputs": [
    {
     "name": "stdout",
     "output_type": "stream",
     "text": [
      "(<qiskit._quantumregister.QuantumRegister object at 0x7fcfa5d194e0>, 0)\n",
      "(<qiskit._quantumregister.QuantumRegister object at 0x7fcfa5d194e0>, 1)\n",
      "(<qiskit._quantumregister.QuantumRegister object at 0x7fcfa5d194e0>, 2)\n"
     ]
    }
   ],
   "source": [
    "qCirc.z(qReg[0])\n",
    "qCirc.cz(qReg[1],qReg[2])\n",
    "\n",
    "for i in range(n):\n",
    "    qCirc.h(qReg[i])\n",
    "    #print(qReg[i])"
   ]
  },
  {
   "cell_type": "code",
   "execution_count": 44,
   "metadata": {
    "collapsed": false
   },
   "outputs": [
    {
     "name": "stdout",
     "output_type": "stream",
     "text": [
      "{'111': 270, '001': 269, '101': 245, '011': 240}\n"
     ]
    }
   ],
   "source": [
    "qCirc.measure(qReg[0], cReg[0])\n",
    "qCirc.measure(qReg[1], cReg[1])\n",
    "qCirc.measure(qReg[2], cReg[2])\n",
    "\n",
    "device = 'ibmqx_qasm_simulator' # Backend to execute your program, in this case it is the online simulator\n",
    "circuits = [\"qCirc\"]  # Group of circuits to execute\n",
    "comp = qProg.compile(circuits, \"local_qasm_simulator\") # Compile your program\n",
    "\n",
    "# Run your program in the device and check the execution result every 2 seconds\n",
    "results = qProg.run(comp,wait=2, timeout=240)\n",
    "\n",
    "\n",
    "print(results.get_counts(\"qCirc\"))"
   ]
  },
  {
   "cell_type": "code",
   "execution_count": null,
   "metadata": {
    "collapsed": true
   },
   "outputs": [],
   "source": []
  }
 ],
 "metadata": {
  "kernelspec": {
   "display_name": "Python 3",
   "language": "python",
   "name": "python3"
  },
  "language_info": {
   "codemirror_mode": {
    "name": "ipython",
    "version": 3
   },
   "file_extension": ".py",
   "mimetype": "text/x-python",
   "name": "python",
   "nbconvert_exporter": "python",
   "pygments_lexer": "ipython3",
   "version": "3.6.0"
  }
 },
 "nbformat": 4,
 "nbformat_minor": 2
}
